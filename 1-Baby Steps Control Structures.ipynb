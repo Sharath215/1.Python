{
 "cells": [
  {
   "cell_type": "code",
   "execution_count": 1,
   "id": "a7d974dc",
   "metadata": {},
   "outputs": [
    {
     "name": "stdout",
     "output_type": "stream",
     "text": [
      "Welcome to Assignment-1\n"
     ]
    }
   ],
   "source": [
    "print(\"Welcome to Assignment-1\")"
   ]
  },
  {
   "cell_type": "code",
   "execution_count": 3,
   "id": "d75eeab3",
   "metadata": {},
   "outputs": [
    {
     "name": "stdout",
     "output_type": "stream",
     "text": [
      "Num1 =  10\n",
      "Num2 =  30\n",
      "Add =  40\n"
     ]
    }
   ],
   "source": [
    "num1= 10\n",
    "num2= 30\n",
    "print(\"Num1 = \",num1)\n",
    "print(\"Num2 = \",num2)\n",
    "print(\"Add = \",num1+num2)"
   ]
  },
  {
   "cell_type": "code",
   "execution_count": 11,
   "id": "71568e39",
   "metadata": {},
   "outputs": [
    {
     "name": "stdout",
     "output_type": "stream",
     "text": [
      "Enter the BMI Index :24\n",
      "Normal\n"
     ]
    }
   ],
   "source": [
    "BMI = float(input(\"Enter the BMI Index :\"))\n",
    "if(BMI < 18.5):\n",
    "    print(\"UnderWeight\")\n",
    "elif(BMI < 24.9):\n",
    "    print(\"Normal\")\n",
    "elif(BMI < 29.9):\n",
    "    print(\"OverWeight\")\n",
    "else:\n",
    "    print(\"Very OverWeight\")\n"
   ]
  },
  {
   "cell_type": "code",
   "execution_count": null,
   "id": "8a5dce07",
   "metadata": {},
   "outputs": [],
   "source": []
  }
 ],
 "metadata": {
  "kernelspec": {
   "display_name": "Python 3 (ipykernel)",
   "language": "python",
   "name": "python3"
  },
  "language_info": {
   "codemirror_mode": {
    "name": "ipython",
    "version": 3
   },
   "file_extension": ".py",
   "mimetype": "text/x-python",
   "name": "python",
   "nbconvert_exporter": "python",
   "pygments_lexer": "ipython3",
   "version": "3.11.5"
  }
 },
 "nbformat": 4,
 "nbformat_minor": 5
}
