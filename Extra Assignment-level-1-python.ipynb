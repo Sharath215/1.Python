{
 "cells": [
  {
   "cell_type": "code",
   "execution_count": 1,
   "id": "a9c685dd",
   "metadata": {},
   "outputs": [
    {
     "name": "stdout",
     "output_type": "stream",
     "text": [
      "HOPE AI\n"
     ]
    }
   ],
   "source": [
    "print(\"HOPE AI\")"
   ]
  },
  {
   "cell_type": "code",
   "execution_count": 3,
   "id": "fadf149a",
   "metadata": {},
   "outputs": [
    {
     "name": "stdout",
     "output_type": "stream",
     "text": [
      "Enter you institute name ?: HOPE AI\n"
     ]
    }
   ],
   "source": [
    "A = input(\"Enter you institute name ?: \")"
   ]
  },
  {
   "cell_type": "code",
   "execution_count": 4,
   "id": "278b7277",
   "metadata": {},
   "outputs": [
    {
     "name": "stdout",
     "output_type": "stream",
     "text": [
      "Enter your Name: Raj\n",
      "Enter your Age: 15\n",
      "Enter your School Name: Guru School\n",
      "Enter your degree: B.E CSE\n"
     ]
    }
   ],
   "source": [
    "name = input(\"Enter your Name: \")\n",
    "age = input(\"Enter your Age: \")\n",
    "school = input(\"Enter your School Name: \")\n",
    "deg = input(\"Enter your degree: \")"
   ]
  },
  {
   "cell_type": "code",
   "execution_count": 6,
   "id": "53107978",
   "metadata": {},
   "outputs": [
    {
     "name": "stdout",
     "output_type": "stream",
     "text": [
      "a =  43\n",
      "b =  34\n",
      "Add =  77\n"
     ]
    }
   ],
   "source": [
    "a = 43\n",
    "b = 34\n",
    "print(\"a = \",a)\n",
    "print(\"b = \",b)\n",
    "print(\"Add = \",a+b)"
   ]
  },
  {
   "cell_type": "code",
   "execution_count": 7,
   "id": "3c15ee2c",
   "metadata": {},
   "outputs": [
    {
     "name": "stdout",
     "output_type": "stream",
     "text": [
      "a =  43\n",
      "b =  34\n",
      "Sub =  9\n"
     ]
    }
   ],
   "source": [
    "a = 43\n",
    "b = 34\n",
    "print(\"a = \",a)\n",
    "print(\"b = \",b)\n",
    "print(\"Sub = \",a-b)"
   ]
  },
  {
   "cell_type": "code",
   "execution_count": 8,
   "id": "a9d6533d",
   "metadata": {},
   "outputs": [
    {
     "name": "stdout",
     "output_type": "stream",
     "text": [
      "a =  63\n",
      "b =  97\n",
      "Mul =  6111\n"
     ]
    }
   ],
   "source": [
    "a = 63\n",
    "b = 97\n",
    "print(\"a = \",a)\n",
    "print(\"b = \",b)\n",
    "print(\"Mul = \",a*b)"
   ]
  },
  {
   "cell_type": "code",
   "execution_count": 9,
   "id": "eca615c5",
   "metadata": {},
   "outputs": [
    {
     "name": "stdout",
     "output_type": "stream",
     "text": [
      "a =  76\n",
      "b =  31\n",
      "Div =  2.4516129032258065\n"
     ]
    }
   ],
   "source": [
    "a = 76\n",
    "b = 31\n",
    "print(\"a = \",a)\n",
    "print(\"b = \",b)\n",
    "print(\"Div = \",a/b)"
   ]
  },
  {
   "cell_type": "code",
   "execution_count": 11,
   "id": "0ff57a05",
   "metadata": {},
   "outputs": [
    {
     "name": "stdout",
     "output_type": "stream",
     "text": [
      "a =  76\n",
      "b =  31\n",
      "Floor Div =  2\n"
     ]
    }
   ],
   "source": [
    "a = 76\n",
    "b = 31\n",
    "print(\"a = \",a)\n",
    "print(\"b = \",b)\n",
    "print(\"Floor Div = \",a//b)"
   ]
  },
  {
   "cell_type": "code",
   "execution_count": 12,
   "id": "316faf65",
   "metadata": {},
   "outputs": [
    {
     "name": "stdout",
     "output_type": "stream",
     "text": [
      "a =  76\n",
      "b =  31\n",
      "Modulo =  14\n"
     ]
    }
   ],
   "source": [
    "a = 76\n",
    "b = 31\n",
    "print(\"a = \",a)\n",
    "print(\"b = \",b)\n",
    "print(\"Modulo = \",a%b)"
   ]
  },
  {
   "cell_type": "code",
   "execution_count": 13,
   "id": "69c835b0",
   "metadata": {},
   "outputs": [
    {
     "name": "stdout",
     "output_type": "stream",
     "text": [
      "a =  4\n",
      "b =  4\n",
      "Power =  256\n"
     ]
    }
   ],
   "source": [
    "a = 4\n",
    "b = 4\n",
    "print(\"a = \",a)\n",
    "print(\"b = \",b)\n",
    "print(\"Power = \",a**b)"
   ]
  },
  {
   "cell_type": "code",
   "execution_count": null,
   "id": "6be18320",
   "metadata": {},
   "outputs": [],
   "source": []
  }
 ],
 "metadata": {
  "kernelspec": {
   "display_name": "Python 3 (ipykernel)",
   "language": "python",
   "name": "python3"
  },
  "language_info": {
   "codemirror_mode": {
    "name": "ipython",
    "version": 3
   },
   "file_extension": ".py",
   "mimetype": "text/x-python",
   "name": "python",
   "nbconvert_exporter": "python",
   "pygments_lexer": "ipython3",
   "version": "3.11.5"
  }
 },
 "nbformat": 4,
 "nbformat_minor": 5
}
