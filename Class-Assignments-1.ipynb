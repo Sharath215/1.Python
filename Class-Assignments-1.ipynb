{
 "cells": [
  {
   "cell_type": "code",
   "execution_count": 2,
   "id": "064f4f7b",
   "metadata": {},
   "outputs": [],
   "source": [
    "from basicfunctions import BasicFunctions"
   ]
  },
  {
   "cell_type": "code",
   "execution_count": 41,
   "id": "342abdf0",
   "metadata": {},
   "outputs": [
    {
     "name": "stdout",
     "output_type": "stream",
     "text": [
      "Sub-fields in AI are:\n",
      "\n",
      "Machine Learning\n",
      "Neural Networks\n",
      "VisionRobotics\n",
      "Speech Processing\n",
      "Natural Language Processing\n"
     ]
    }
   ],
   "source": [
    "BasicFunctions.SubFields()"
   ]
  },
  {
   "cell_type": "code",
   "execution_count": 21,
   "id": "ba9bdeb1",
   "metadata": {},
   "outputs": [
    {
     "name": "stdout",
     "output_type": "stream",
     "text": [
      "Enter a Number: 52452\n",
      "52452 is Even Number\n"
     ]
    }
   ],
   "source": [
    "Num = int(input(\"Enter a Number: \"))\n",
    "res = BasicFunctions.OddEven(Num)\n",
    "print(Num, res)"
   ]
  },
  {
   "cell_type": "code",
   "execution_count": 22,
   "id": "5236bcf5",
   "metadata": {},
   "outputs": [
    {
     "name": "stdout",
     "output_type": "stream",
     "text": [
      "Your Gender: Male\n",
      "Your Age: 20\n",
      "NOT Eligible\n"
     ]
    }
   ],
   "source": [
    "Gender = input(\"Your Gender: \")\n",
    "Age = int(input(\"Your Age: \"))\n",
    "res = BasicFunctions.Eligible(Age,Gender)\n",
    "print(res)"
   ]
  },
  {
   "cell_type": "code",
   "execution_count": 3,
   "id": "de82cedc",
   "metadata": {},
   "outputs": [
    {
     "name": "stdout",
     "output_type": "stream",
     "text": [
      "Subject1: 98\n",
      "Subject2: 87\n",
      "Subject3: 95\n",
      "Subject4: 95\n",
      "Subject5: 93\n",
      "Total:  468 \n",
      "Percentage :  93.60000000000001\n"
     ]
    }
   ],
   "source": [
    "BasicFunctions.Percentage()"
   ]
  },
  {
   "cell_type": "code",
   "execution_count": 4,
   "id": "2fb1e524",
   "metadata": {},
   "outputs": [
    {
     "name": "stdout",
     "output_type": "stream",
     "text": [
      "Height : 32\n",
      "Breadth : 34\n",
      "area Formula : (Height*Breadth)/2\n",
      "Area of Triangle :  544.0\n",
      "Height1 : 2\n",
      "Height2 : 4\n",
      "Breadth : 4\n",
      "Perimeter Formula : Height1+Height2+Breadth\n",
      "Perimeter of Triangle :  10\n"
     ]
    }
   ],
   "source": [
    "BasicFunctions.triangle()"
   ]
  },
  {
   "cell_type": "code",
   "execution_count": null,
   "id": "39023574",
   "metadata": {},
   "outputs": [],
   "source": []
  }
 ],
 "metadata": {
  "kernelspec": {
   "display_name": "Python 3 (ipykernel)",
   "language": "python",
   "name": "python3"
  },
  "language_info": {
   "codemirror_mode": {
    "name": "ipython",
    "version": 3
   },
   "file_extension": ".py",
   "mimetype": "text/x-python",
   "name": "python",
   "nbconvert_exporter": "python",
   "pygments_lexer": "ipython3",
   "version": "3.11.5"
  }
 },
 "nbformat": 4,
 "nbformat_minor": 5
}
