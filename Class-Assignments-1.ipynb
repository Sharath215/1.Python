{
 "cells": [
  {
   "cell_type": "code",
   "execution_count": 2,
   "id": "fc585a63",
   "metadata": {},
   "outputs": [],
   "source": [
    "class SubfieldsInAI():\n",
    "    \n",
    "    def SubFields():\n",
    "        List = [\"Machine Learning\", \"Neural Networks\", \"VisionRobotics\", \"Speech Processing\", \"Natural Language Processing\" ]\n",
    "        print(\"Sub-fields in AI are:\\n\")\n",
    "        for i in List:\n",
    "            print(i)\n",
    "            \n",
    "class OddEven():\n",
    "    \n",
    "    def OddEven(a):\n",
    "        if(a%2==0):\n",
    "            res = \"is Even Number\"\n",
    "        else:\n",
    "            res = \"is Odd Number\"\n",
    "        return res\n",
    "    \n",
    "class ElegibilityForMarriage():\n",
    "    def Eligible(A,G):\n",
    "        if(G == \"Male\" and A < 21):\n",
    "            res = \"NOT Eligible\"\n",
    "\n",
    "        elif(G == \"Male\" and A >= 21):\n",
    "            res = \"Eligible\"\n",
    "\n",
    "        elif(G == \"Female\" and A >= 18):\n",
    "            res = \"Eligible\"\n",
    "\n",
    "        elif(G == \"Female\" and A < 18):\n",
    "            res = \"NOT Eligible\"\n",
    "\n",
    "        else:\n",
    "            res = \"invalid Values\"\n",
    "\n",
    "        return res\n",
    "    \n",
    "class FindPercent():\n",
    "        def Percentage():\n",
    "            S1 = int(input(\"Subject1: \"))\n",
    "            S2 = int(input(\"Subject2: \"))\n",
    "            S3 = int(input(\"Subject3: \"))\n",
    "            S4 = int(input(\"Subject4: \"))\n",
    "            S5 = int(input(\"Subject5: \"))\n",
    "            total = S1+S2+S3+S4+S5\n",
    "            P = (total/500)*100\n",
    "            print(\"Total: \",total,\"\\nPercentage : \",P)\n",
    "\n",
    "class triangle():\n",
    "        def triangle():\n",
    "            H = int(input(\"Height : \"))\n",
    "            B = int(input(\"Breadth : \"))\n",
    "            print(\"area Formula : (Height*Breadth)/2\")\n",
    "            A = (H*B)/2\n",
    "            print(\"Area of Triangle : \", A )\n",
    "            H1 = int(input(\"Height1 : \"))\n",
    "            H2 = int(input(\"Height2 : \"))\n",
    "            B2 = int(input(\"Breadth : \"))\n",
    "            print(\"Perimeter Formula : Height1+Height2+Breadth\")\n",
    "            P= H1+H2+B2\n",
    "            print(\"Perimeter of Triangle : \",P)"
   ]
  },
  {
   "cell_type": "code",
   "execution_count": 3,
   "id": "342abdf0",
   "metadata": {},
   "outputs": [
    {
     "name": "stdout",
     "output_type": "stream",
     "text": [
      "Sub-fields in AI are:\n",
      "\n",
      "Machine Learning\n",
      "Neural Networks\n",
      "VisionRobotics\n",
      "Speech Processing\n",
      "Natural Language Processing\n"
     ]
    }
   ],
   "source": [
    "SubfieldsInAI.SubFields()"
   ]
  },
  {
   "cell_type": "code",
   "execution_count": 7,
   "id": "ba9bdeb1",
   "metadata": {},
   "outputs": [
    {
     "name": "stdout",
     "output_type": "stream",
     "text": [
      "Enter a Number: 52452\n",
      "52452 is Even Number\n"
     ]
    }
   ],
   "source": [
    "Num = int(input(\"Enter a Number: \"))\n",
    "res = OddEven.OddEven(Num)\n",
    "print(Num, res)"
   ]
  },
  {
   "cell_type": "code",
   "execution_count": 15,
   "id": "5236bcf5",
   "metadata": {},
   "outputs": [
    {
     "name": "stdout",
     "output_type": "stream",
     "text": [
      "Your Gender: Male\n",
      "Your Age: 20\n",
      "NOT Eligible\n"
     ]
    }
   ],
   "source": [
    "Gender = input(\"Your Gender: \")\n",
    "Age = int(input(\"Your Age: \"))\n",
    "res = ElegibilityForMarriage.Eligible(Age,Gender)\n",
    "print(res)"
   ]
  },
  {
   "cell_type": "code",
   "execution_count": 19,
   "id": "9f887c2e",
   "metadata": {},
   "outputs": [
    {
     "name": "stdout",
     "output_type": "stream",
     "text": [
      "Subject1: 98\n",
      "Subject2: 87\n",
      "Subject3: 95\n",
      "Subject4: 95\n",
      "Subject5: 93\n",
      "Total:  468 \n",
      "Percentage :  93.60000000000001\n"
     ]
    }
   ],
   "source": [
    "FindPercent.Percentage()"
   ]
  },
  {
   "cell_type": "code",
   "execution_count": 3,
   "id": "20388137",
   "metadata": {},
   "outputs": [
    {
     "name": "stdout",
     "output_type": "stream",
     "text": [
      "Height : 32\n",
      "Breadth : 34\n",
      "area Formula : (Height*Breadth)/2\n",
      "Area of Triangle :  544.0\n",
      "Height1 : 2\n",
      "Height2 : 4\n",
      "Breadth : 4\n",
      "Perimeter Formula : Height1+Height2+Breadth\n",
      "Perimeter of Triangle :  10\n"
     ]
    }
   ],
   "source": [
    "triangle.triangle()"
   ]
  },
  {
   "cell_type": "code",
   "execution_count": null,
   "id": "de82cedc",
   "metadata": {},
   "outputs": [],
   "source": []
  },
  {
   "cell_type": "code",
   "execution_count": null,
   "id": "76398d15",
   "metadata": {},
   "outputs": [],
   "source": []
  }
 ],
 "metadata": {
  "kernelspec": {
   "display_name": "Python 3 (ipykernel)",
   "language": "python",
   "name": "python3"
  },
  "language_info": {
   "codemirror_mode": {
    "name": "ipython",
    "version": 3
   },
   "file_extension": ".py",
   "mimetype": "text/x-python",
   "name": "python",
   "nbconvert_exporter": "python",
   "pygments_lexer": "ipython3",
   "version": "3.11.5"
  }
 },
 "nbformat": 4,
 "nbformat_minor": 5
}
