{
 "cells": [
  {
   "cell_type": "code",
   "execution_count": 2,
   "id": "a70bae08",
   "metadata": {},
   "outputs": [
    {
     "name": "stdout",
     "output_type": "stream",
     "text": [
      "Value :10\n",
      "Correct\n"
     ]
    }
   ],
   "source": [
    "i = int(input(\"Value :\"))\n",
    "if(i==10):\n",
    "    print(\"Correct\")"
   ]
  },
  {
   "cell_type": "code",
   "execution_count": 3,
   "id": "25f1bb55",
   "metadata": {},
   "outputs": [
    {
     "name": "stdout",
     "output_type": "stream",
     "text": [
      "Enter the Password : HOPE@123\n",
      "Your Password is Correct\n"
     ]
    }
   ],
   "source": [
    "Pass = input(\"Enter the Password : \")\n",
    "if(Pass == 'HOPE@123'):\n",
    "    print(\"Your Password is Correct\")\n",
    "else:\n",
    "    print(\"Your Password is not Correct\")"
   ]
  },
  {
   "cell_type": "code",
   "execution_count": 9,
   "id": "e02264d0",
   "metadata": {},
   "outputs": [
    {
     "name": "stdout",
     "output_type": "stream",
     "text": [
      "age : 20\n",
      "Adult\n"
     ]
    }
   ],
   "source": [
    "Age = int(input(\"age : \"))\n",
    "if(Age < 18):\n",
    "    print(\"Children\")\n",
    "elif(Age<35):\n",
    "    print(\"Adult\")\n",
    "elif(Age<59):\n",
    "    print(\"Citizen\")\n",
    "else:\n",
    "    print(\"Senior Citizen\")"
   ]
  },
  {
   "cell_type": "code",
   "execution_count": 19,
   "id": "ef6276f3",
   "metadata": {},
   "outputs": [
    {
     "name": "stdout",
     "output_type": "stream",
     "text": [
      "Enter any Number : 1\n",
      "Number is Positive\n"
     ]
    }
   ],
   "source": [
    "A = int(input(\"Enter any Number : \"))\n",
    "\n",
    "if(A < 0):\n",
    "    print(\"Number is Negative\")\n",
    "elif(A > 0 ):\n",
    "    print(\"Number is Positive\")\n",
    "else:\n",
    "    print(\"Number is Zero\")"
   ]
  },
  {
   "cell_type": "code",
   "execution_count": 23,
   "id": "3c63d763",
   "metadata": {},
   "outputs": [
    {
     "name": "stdout",
     "output_type": "stream",
     "text": [
      "Enter a number to Check : 22\n",
      "NO is not divisible by 5\n"
     ]
    }
   ],
   "source": [
    "A = int(input(\"Enter a number to Check : \"))\n",
    "if(A%5 == 0):\n",
    "    print(\"No is divisible by 5\")\n",
    "else:\n",
    "    print(\"NO is not divisible by 5\")"
   ]
  },
  {
   "cell_type": "code",
   "execution_count": null,
   "id": "c0de3892",
   "metadata": {},
   "outputs": [],
   "source": []
  }
 ],
 "metadata": {
  "kernelspec": {
   "display_name": "Python 3 (ipykernel)",
   "language": "python",
   "name": "python3"
  },
  "language_info": {
   "codemirror_mode": {
    "name": "ipython",
    "version": 3
   },
   "file_extension": ".py",
   "mimetype": "text/x-python",
   "name": "python",
   "nbconvert_exporter": "python",
   "pygments_lexer": "ipython3",
   "version": "3.11.5"
  }
 },
 "nbformat": 4,
 "nbformat_minor": 5
}
