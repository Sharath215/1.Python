{
 "cells": [
  {
   "cell_type": "code",
   "execution_count": 34,
   "id": "a25f41e9",
   "metadata": {},
   "outputs": [],
   "source": [
    "def SubFields(A):\n",
    "    print(\"Sub-fields in AI are:\\n\")\n",
    "    for i in A:\n",
    "        print(i)"
   ]
  },
  {
   "cell_type": "code",
   "execution_count": 35,
   "id": "342abdf0",
   "metadata": {},
   "outputs": [
    {
     "name": "stdout",
     "output_type": "stream",
     "text": [
      "Sub-fields in AI are:\n",
      "\n",
      "Machine Learning\n",
      "Neural Networks\n",
      "VisionRobotics\n",
      "Speech Processing\n",
      "Natural Language Processing\n"
     ]
    }
   ],
   "source": [
    "List = [\"Machine Learning\", \"Neural Networks\", \"VisionRobotics\", \"Speech Processing\", \"Natural Language Processing\" ]\n",
    "SubFields(List)"
   ]
  },
  {
   "cell_type": "code",
   "execution_count": 11,
   "id": "89ddb241",
   "metadata": {},
   "outputs": [],
   "source": [
    "def OddEven(a):\n",
    "    if(a%2==0):\n",
    "        res = \"is Even Number\"\n",
    "    else:\n",
    "        res = \"is Odd Number\"\n",
    "    return res"
   ]
  },
  {
   "cell_type": "code",
   "execution_count": 16,
   "id": "ba9bdeb1",
   "metadata": {},
   "outputs": [
    {
     "name": "stdout",
     "output_type": "stream",
     "text": [
      "Enter a Number: 52452\n",
      "52452 is Even Number\n"
     ]
    }
   ],
   "source": [
    "Num = int(input(\"Enter a Number: \"))\n",
    "res = OddEven(Num)\n",
    "print(Num, res)"
   ]
  },
  {
   "cell_type": "code",
   "execution_count": 22,
   "id": "2aad1799",
   "metadata": {},
   "outputs": [],
   "source": [
    "def Eligible(A,G):\n",
    "    if(G == \"Male\" and A < 21):\n",
    "        res = \"NOT Eligible\"\n",
    "        \n",
    "    elif(G == \"Male\" and A >= 21):\n",
    "        res = \"Eligible\"\n",
    "        \n",
    "    elif(G == \"Female\" and A >= 18):\n",
    "        res = \"Eligible\"\n",
    "        \n",
    "    elif(G == \"Female\" and A < 18):\n",
    "        res = \"NOT Eligible\"\n",
    "        \n",
    "    else:\n",
    "        res = \"invalid Values\"\n",
    "        \n",
    "    return res"
   ]
  },
  {
   "cell_type": "code",
   "execution_count": 27,
   "id": "5236bcf5",
   "metadata": {},
   "outputs": [
    {
     "name": "stdout",
     "output_type": "stream",
     "text": [
      "Your Gender: Male\n",
      "Your Age: 20\n",
      "NOT Eligible\n"
     ]
    }
   ],
   "source": [
    "Gender = input(\"Your Gender: \")\n",
    "Age = int(input(\"Your Age: \"))\n",
    "res = Eligible(Age,Gender)\n",
    "print(res)"
   ]
  },
  {
   "cell_type": "code",
   "execution_count": 28,
   "id": "e93abe64",
   "metadata": {},
   "outputs": [],
   "source": [
    "def Percentage():\n",
    "    S1 = int(input(\"Subject1: \"))\n",
    "    S2 = int(input(\"Subject2: \"))\n",
    "    S3 = int(input(\"Subject3: \"))\n",
    "    S4 = int(input(\"Subject4: \"))\n",
    "    S5 = int(input(\"Subject5: \"))\n",
    "    total = S1+S2+S3+S4+S5\n",
    "    P = (total/500)*100\n",
    "    print(\"Total: \",total,\"\\nPercentage : \",P)"
   ]
  },
  {
   "cell_type": "code",
   "execution_count": 29,
   "id": "db81f993",
   "metadata": {},
   "outputs": [
    {
     "name": "stdout",
     "output_type": "stream",
     "text": [
      "Subject1: 98\n",
      "Subject2: 87\n",
      "Subject3: 95\n",
      "Subject4: 95\n",
      "Subject5: 93\n",
      "Total:  468 \n",
      "Percentage :  93.60000000000001\n"
     ]
    }
   ],
   "source": [
    "Percentage()"
   ]
  },
  {
   "cell_type": "code",
   "execution_count": 30,
   "id": "84725720",
   "metadata": {},
   "outputs": [],
   "source": [
    "def triangle():\n",
    "    H = int(input(\"Height : \"))\n",
    "    B = int(input(\"Breadth : \"))\n",
    "    print(\"area Formula : (Height*Breadth)/2\")\n",
    "    A = (H*B)/2\n",
    "    print(\"Area of Triangle : \", A )\n",
    "    H1 = int(input(\"Height1 : \"))\n",
    "    H2 = int(input(\"Height2 : \"))\n",
    "    B2 = int(input(\"Breadth : \"))\n",
    "    print(\"Perimeter Formula : Height1+Height2+Breadth\")\n",
    "    P= H1+H2+B2\n",
    "    print(\"Perimeter of Triangle : \",P)"
   ]
  },
  {
   "cell_type": "code",
   "execution_count": 31,
   "id": "20388137",
   "metadata": {},
   "outputs": [
    {
     "name": "stdout",
     "output_type": "stream",
     "text": [
      "Height : 32\n",
      "Breadth : 34\n",
      "area Formula : (Height*Breadth)/2\n",
      "Area of Triangle :  544.0\n",
      "Height1 : 2\n",
      "Height2 : 4\n",
      "Breadth : 4\n",
      "Perimeter Formula : Height1+Height2+Breadth\n",
      "Perimeter of Triangle :  10\n"
     ]
    }
   ],
   "source": [
    "triangle()"
   ]
  },
  {
   "cell_type": "code",
   "execution_count": null,
   "id": "de82cedc",
   "metadata": {},
   "outputs": [],
   "source": []
  }
 ],
 "metadata": {
  "kernelspec": {
   "display_name": "Python 3 (ipykernel)",
   "language": "python",
   "name": "python3"
  },
  "language_info": {
   "codemirror_mode": {
    "name": "ipython",
    "version": 3
   },
   "file_extension": ".py",
   "mimetype": "text/x-python",
   "name": "python",
   "nbconvert_exporter": "python",
   "pygments_lexer": "ipython3",
   "version": "3.11.5"
  }
 },
 "nbformat": 4,
 "nbformat_minor": 5
}
